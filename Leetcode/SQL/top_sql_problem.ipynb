{
 "cells": [
  {
   "cell_type": "markdown",
   "metadata": {},
   "source": [
    "### <font face=\"微软雅黑\" color=#A52A2A > 1.Nth highest salary"
   ]
  },
  {
   "cell_type": "markdown",
   "metadata": {},
   "source": [
    "limit m,1 等价于 limit 1 offset m"
   ]
  },
  {
   "cell_type": "markdown",
   "metadata": {},
   "source": [
    "CREATE FUNCTION getNthHighestSalary(N INT) RETURNS INT  \n",
    "BEGIN  \n",
    "DECLARE M INT;  \n",
    "SET M=N-1;  \n",
    "  &emsp; RETURN (  \n",
    "      &emsp; &emsp;SELECT DISTINCT Salary FROM Employee ORDER BY Salary DESC LIMIT M, 1  \n",
    "  );  \n",
    "END  "
   ]
  },
  {
   "cell_type": "markdown",
   "metadata": {},
   "source": [
    "### <font face=\"微软雅黑\" color=#A52A2A > 2.按分组取topk问题"
   ]
  },
  {
   "cell_type": "markdown",
   "metadata": {},
   "source": []
  },
  {
   "cell_type": "markdown",
   "metadata": {},
   "source": [
    "### <font face=\"微软雅黑\" color=#A52A2A > 3.pivot"
   ]
  },
  {
   "cell_type": "markdown",
   "metadata": {},
   "source": []
  },
  {
   "cell_type": "markdown",
   "metadata": {},
   "source": []
  },
  {
   "cell_type": "markdown",
   "metadata": {},
   "source": [
    "### <font face=\"微软雅黑\" color=#A52A2A > 4.计算球队分数"
   ]
  },
  {
   "cell_type": "markdown",
   "metadata": {},
   "source": [
    "值得注意的点是：\n",
    "1. left join 之后，join的key是都保留的，不会只留下一个\n",
    "2. order by 后面接多个key，可以用逗号隔开"
   ]
  },
  {
   "cell_type": "markdown",
   "metadata": {},
   "source": [
    "select t.team_id, t.team_name,   \n",
    "    &emsp;  sum(case when t.team_id = m.host_team AND m.host_goals > m.guest_goals then 3 else 0 end) +   \n",
    "    &emsp;  sum(case when t.team_id = m.guest_team AND m.guest_goals > m.host_goals then 3 else 0 end) +   \n",
    "    &emsp;  sum(case when t.team_id = m.host_team AND m.host_goals = m.guest_goals then 1 else 0 end) +   \n",
    "    &emsp;  sum(case when t.team_id = m.guest_team AND m.host_goals = m.guest_goals then 1 else 0 end) as num_points  \n",
    "from Teams t left join Matches m on t.team_id = m.host_team or t.team_id = m.guest_team   \n",
    "group by t.team_id, t.team_name  \n",
    "order by num_points desc, team_id ASC;  "
   ]
  },
  {
   "cell_type": "markdown",
   "metadata": {},
   "source": []
  },
  {
   "cell_type": "markdown",
   "metadata": {},
   "source": []
  },
  {
   "cell_type": "markdown",
   "metadata": {},
   "source": []
  },
  {
   "cell_type": "markdown",
   "metadata": {},
   "source": []
  },
  {
   "cell_type": "markdown",
   "metadata": {},
   "source": []
  },
  {
   "cell_type": "markdown",
   "metadata": {},
   "source": []
  },
  {
   "cell_type": "markdown",
   "metadata": {},
   "source": []
  }
 ],
 "metadata": {
  "kernelspec": {
   "display_name": "Python 3",
   "language": "python",
   "name": "python3"
  },
  "language_info": {
   "codemirror_mode": {
    "name": "ipython",
    "version": 3
   },
   "file_extension": ".py",
   "mimetype": "text/x-python",
   "name": "python",
   "nbconvert_exporter": "python",
   "pygments_lexer": "ipython3",
   "version": "3.8.3"
  }
 },
 "nbformat": 4,
 "nbformat_minor": 4
}
